{
 "cells": [
  {
   "cell_type": "code",
   "execution_count": 15,
   "metadata": {},
   "outputs": [],
   "source": [
    "import os\n",
    "from typing import Dict, List\n",
    "\n",
    "import verta\n",
    "from verta.registry.stage_change import Archived, Staging, Production\n",
    "\n",
    "import mlflow\n",
    "from mlflow import MlflowClient\n",
    "from mlflow.entities.model_registry import RegisteredModel as MLflow_RegisteredModel\n",
    "from mlflow.store.entities.paged_list import PagedList"
   ]
  },
  {
   "cell_type": "code",
   "execution_count": 35,
   "metadata": {},
   "outputs": [
    {
     "name": "stdout",
     "output_type": "stream",
     "text": [
      "got VERTA_HOST from environment\n",
      "got VERTA_EMAIL from environment\n",
      "got VERTA_DEV_KEY from environment\n",
      "connection successfully established\n"
     ]
    }
   ],
   "source": [
    "os.environ['VERTA_EMAIL'] = \"\"\n",
    "os.environ['VERTA_DEV_KEY'] = \"\"\n",
    "os.environ['VERTA_HOST'] = \"\"\n",
    "\n",
    "verta_client = verta.Client()"
   ]
  },
  {
   "cell_type": "code",
   "execution_count": null,
   "metadata": {},
   "outputs": [],
   "source": [
    "os.environ[\"MLFLOW_TRACKING_URI\"] = \"\"\n",
    "os.environ[\"DATABRICKS_HOST\"] = \"\"\n",
    "os.environ[\"DATABRICKS_TOKEN\"] = \"\"\n",
    "mlflow.set_registry_uri(\"databricks\")\n",
    "\n",
    "mlflow_client = MlflowClient()\n",
    "model_version_infos = mlflow_client.search_registered_models()\n",
    "model_version_infos"
   ]
  },
  {
   "cell_type": "code",
   "execution_count": 24,
   "metadata": {},
   "outputs": [],
   "source": [
    "import mlflow.pyfunc\n",
    "\n",
    "model_name = \"Iris\"\n",
    "model_version = 1\n",
    "\n",
    "model = mlflow.pyfunc.load_model(model_uri=f\"models:/{model_name}/{model_version}\")\n",
    "\n"
   ]
  },
  {
   "cell_type": "code",
   "execution_count": null,
   "metadata": {},
   "outputs": [],
   "source": [
    "from pprint import pprint\n",
    "\n",
    "for rm in mlflow_client.search_registered_models():\n",
    "    pprint(dict(rm), indent=4)\n",
    "\n",
    "    with open(\"yourlogfile.txt\", \"w\") as log_file:\n",
    "        pprint(dict(rm), log_file)"
   ]
  },
  {
   "cell_type": "code",
   "execution_count": 32,
   "metadata": {},
   "outputs": [
    {
     "ename": "TypeError",
     "evalue": "Object of type RegisteredModel is not JSON serializable",
     "output_type": "error",
     "traceback": [
      "\u001b[0;31m---------------------------------------------------------------------------\u001b[0m",
      "\u001b[0;31mTypeError\u001b[0m                                 Traceback (most recent call last)",
      "Cell \u001b[0;32mIn[32], line 21\u001b[0m\n\u001b[1;32m     18\u001b[0m     registered_models\u001b[39m.\u001b[39mappend(rm)\n\u001b[1;32m     20\u001b[0m \u001b[39m# Print the registered models as JSON\u001b[39;00m\n\u001b[0;32m---> 21\u001b[0m \u001b[39mprint\u001b[39m(json\u001b[39m.\u001b[39;49mdumps(registered_models, indent\u001b[39m=\u001b[39;49m\u001b[39m4\u001b[39;49m))\n\u001b[1;32m     23\u001b[0m \u001b[39m# Save the JSON output to a log file\u001b[39;00m\n\u001b[1;32m     24\u001b[0m \u001b[39mwith\u001b[39;00m \u001b[39mopen\u001b[39m(\u001b[39m\"\u001b[39m\u001b[39myourlogfile.txt\u001b[39m\u001b[39m\"\u001b[39m, \u001b[39m\"\u001b[39m\u001b[39mw\u001b[39m\u001b[39m\"\u001b[39m) \u001b[39mas\u001b[39;00m log_file:\n",
      "File \u001b[0;32m/usr/lib/python3.11/json/__init__.py:238\u001b[0m, in \u001b[0;36mdumps\u001b[0;34m(obj, skipkeys, ensure_ascii, check_circular, allow_nan, cls, indent, separators, default, sort_keys, **kw)\u001b[0m\n\u001b[1;32m    232\u001b[0m \u001b[39mif\u001b[39;00m \u001b[39mcls\u001b[39m \u001b[39mis\u001b[39;00m \u001b[39mNone\u001b[39;00m:\n\u001b[1;32m    233\u001b[0m     \u001b[39mcls\u001b[39m \u001b[39m=\u001b[39m JSONEncoder\n\u001b[1;32m    234\u001b[0m \u001b[39mreturn\u001b[39;00m \u001b[39mcls\u001b[39;49m(\n\u001b[1;32m    235\u001b[0m     skipkeys\u001b[39m=\u001b[39;49mskipkeys, ensure_ascii\u001b[39m=\u001b[39;49mensure_ascii,\n\u001b[1;32m    236\u001b[0m     check_circular\u001b[39m=\u001b[39;49mcheck_circular, allow_nan\u001b[39m=\u001b[39;49mallow_nan, indent\u001b[39m=\u001b[39;49mindent,\n\u001b[1;32m    237\u001b[0m     separators\u001b[39m=\u001b[39;49mseparators, default\u001b[39m=\u001b[39;49mdefault, sort_keys\u001b[39m=\u001b[39;49msort_keys,\n\u001b[0;32m--> 238\u001b[0m     \u001b[39m*\u001b[39;49m\u001b[39m*\u001b[39;49mkw)\u001b[39m.\u001b[39;49mencode(obj)\n",
      "File \u001b[0;32m/usr/lib/python3.11/json/encoder.py:202\u001b[0m, in \u001b[0;36mJSONEncoder.encode\u001b[0;34m(self, o)\u001b[0m\n\u001b[1;32m    200\u001b[0m chunks \u001b[39m=\u001b[39m \u001b[39mself\u001b[39m\u001b[39m.\u001b[39miterencode(o, _one_shot\u001b[39m=\u001b[39m\u001b[39mTrue\u001b[39;00m)\n\u001b[1;32m    201\u001b[0m \u001b[39mif\u001b[39;00m \u001b[39mnot\u001b[39;00m \u001b[39misinstance\u001b[39m(chunks, (\u001b[39mlist\u001b[39m, \u001b[39mtuple\u001b[39m)):\n\u001b[0;32m--> 202\u001b[0m     chunks \u001b[39m=\u001b[39m \u001b[39mlist\u001b[39m(chunks)\n\u001b[1;32m    203\u001b[0m \u001b[39mreturn\u001b[39;00m \u001b[39m'\u001b[39m\u001b[39m'\u001b[39m\u001b[39m.\u001b[39mjoin(chunks)\n",
      "File \u001b[0;32m/usr/lib/python3.11/json/encoder.py:430\u001b[0m, in \u001b[0;36m_make_iterencode.<locals>._iterencode\u001b[0;34m(o, _current_indent_level)\u001b[0m\n\u001b[1;32m    428\u001b[0m     \u001b[39myield\u001b[39;00m _floatstr(o)\n\u001b[1;32m    429\u001b[0m \u001b[39melif\u001b[39;00m \u001b[39misinstance\u001b[39m(o, (\u001b[39mlist\u001b[39m, \u001b[39mtuple\u001b[39m)):\n\u001b[0;32m--> 430\u001b[0m     \u001b[39myield from\u001b[39;00m _iterencode_list(o, _current_indent_level)\n\u001b[1;32m    431\u001b[0m \u001b[39melif\u001b[39;00m \u001b[39misinstance\u001b[39m(o, \u001b[39mdict\u001b[39m):\n\u001b[1;32m    432\u001b[0m     \u001b[39myield from\u001b[39;00m _iterencode_dict(o, _current_indent_level)\n",
      "File \u001b[0;32m/usr/lib/python3.11/json/encoder.py:326\u001b[0m, in \u001b[0;36m_make_iterencode.<locals>._iterencode_list\u001b[0;34m(lst, _current_indent_level)\u001b[0m\n\u001b[1;32m    324\u001b[0m         \u001b[39melse\u001b[39;00m:\n\u001b[1;32m    325\u001b[0m             chunks \u001b[39m=\u001b[39m _iterencode(value, _current_indent_level)\n\u001b[0;32m--> 326\u001b[0m         \u001b[39myield from\u001b[39;00m chunks\n\u001b[1;32m    327\u001b[0m \u001b[39mif\u001b[39;00m newline_indent \u001b[39mis\u001b[39;00m \u001b[39mnot\u001b[39;00m \u001b[39mNone\u001b[39;00m:\n\u001b[1;32m    328\u001b[0m     _current_indent_level \u001b[39m-\u001b[39m\u001b[39m=\u001b[39m \u001b[39m1\u001b[39m\n",
      "File \u001b[0;32m/usr/lib/python3.11/json/encoder.py:439\u001b[0m, in \u001b[0;36m_make_iterencode.<locals>._iterencode\u001b[0;34m(o, _current_indent_level)\u001b[0m\n\u001b[1;32m    437\u001b[0m         \u001b[39mraise\u001b[39;00m \u001b[39mValueError\u001b[39;00m(\u001b[39m\"\u001b[39m\u001b[39mCircular reference detected\u001b[39m\u001b[39m\"\u001b[39m)\n\u001b[1;32m    438\u001b[0m     markers[markerid] \u001b[39m=\u001b[39m o\n\u001b[0;32m--> 439\u001b[0m o \u001b[39m=\u001b[39m _default(o)\n\u001b[1;32m    440\u001b[0m \u001b[39myield from\u001b[39;00m _iterencode(o, _current_indent_level)\n\u001b[1;32m    441\u001b[0m \u001b[39mif\u001b[39;00m markers \u001b[39mis\u001b[39;00m \u001b[39mnot\u001b[39;00m \u001b[39mNone\u001b[39;00m:\n",
      "File \u001b[0;32m/usr/lib/python3.11/json/encoder.py:180\u001b[0m, in \u001b[0;36mJSONEncoder.default\u001b[0;34m(self, o)\u001b[0m\n\u001b[1;32m    161\u001b[0m \u001b[39mdef\u001b[39;00m \u001b[39mdefault\u001b[39m(\u001b[39mself\u001b[39m, o):\n\u001b[1;32m    162\u001b[0m \u001b[39m    \u001b[39m\u001b[39m\"\"\"Implement this method in a subclass such that it returns\u001b[39;00m\n\u001b[1;32m    163\u001b[0m \u001b[39m    a serializable object for ``o``, or calls the base implementation\u001b[39;00m\n\u001b[1;32m    164\u001b[0m \u001b[39m    (to raise a ``TypeError``).\u001b[39;00m\n\u001b[0;32m   (...)\u001b[0m\n\u001b[1;32m    178\u001b[0m \n\u001b[1;32m    179\u001b[0m \u001b[39m    \"\"\"\u001b[39;00m\n\u001b[0;32m--> 180\u001b[0m     \u001b[39mraise\u001b[39;00m \u001b[39mTypeError\u001b[39;00m(\u001b[39mf\u001b[39m\u001b[39m'\u001b[39m\u001b[39mObject of type \u001b[39m\u001b[39m{\u001b[39;00mo\u001b[39m.\u001b[39m\u001b[39m__class__\u001b[39m\u001b[39m.\u001b[39m\u001b[39m__name__\u001b[39m\u001b[39m}\u001b[39;00m\u001b[39m \u001b[39m\u001b[39m'\u001b[39m\n\u001b[1;32m    181\u001b[0m                     \u001b[39mf\u001b[39m\u001b[39m'\u001b[39m\u001b[39mis not JSON serializable\u001b[39m\u001b[39m'\u001b[39m)\n",
      "\u001b[0;31mTypeError\u001b[0m: Object of type RegisteredModel is not JSON serializable"
     ]
    }
   ],
   "source": [
    "import json\n",
    "from mlflow.tracking import MlflowClient\n",
    "\n",
    "mlflow_client = MlflowClient()\n",
    "\n",
    "# Create a list to store the registered model details\n",
    "registered_models = []\n",
    "\n",
    "# Retrieve and store the details of all registered models\n",
    "for rm in mlflow_client.search_registered_models():\n",
    "    # Convert ModelVersion object to a dictionary before appending to the list\n",
    "    model_info = {\n",
    "        \"name\": rm.name,\n",
    "        \"latest_version\": rm.latest_versions[0].version if rm.latest_versions else None,\n",
    "        \"description\": rm.description,\n",
    "        \"tags\": dict(rm.tags) if rm.tags else None,\n",
    "    }\n",
    "    registered_models.append(rm)\n",
    "\n",
    "# Print the registered models as JSON\n",
    "print(json.dumps(registered_models, indent=4))\n",
    "\n",
    "# Save the JSON output to a log file\n",
    "with open(\"yourlogfile.txt\", \"w\") as log_file:\n",
    "    json.dump(registered_models, log_file, indent=4)\n"
   ]
  },
  {
   "cell_type": "code",
   "execution_count": 23,
   "metadata": {},
   "outputs": [
    {
     "ename": "AttributeError",
     "evalue": "'RegisteredModel' object has no attribute 'to_json'",
     "output_type": "error",
     "traceback": [
      "\u001b[0;31m---------------------------------------------------------------------------\u001b[0m",
      "\u001b[0;31mAttributeError\u001b[0m                            Traceback (most recent call last)",
      "Cell \u001b[0;32mIn[23], line 6\u001b[0m\n\u001b[1;32m      3\u001b[0m model_version_infos\n\u001b[1;32m      5\u001b[0m \u001b[39mfor\u001b[39;00m model \u001b[39min\u001b[39;00m model_version_infos:\n\u001b[0;32m----> 6\u001b[0m     \u001b[39mprint\u001b[39m(model\u001b[39m.\u001b[39;49mto_json())\n\u001b[1;32m      9\u001b[0m \u001b[39m# with open(\"model_version_infos.json\", \"w\") as outfile:\u001b[39;00m\n\u001b[1;32m     10\u001b[0m \u001b[39m#     outfile.write(json_string)\u001b[39;00m\n",
      "\u001b[0;31mAttributeError\u001b[0m: 'RegisteredModel' object has no attribute 'to_json'"
     ]
    }
   ],
   "source": [
    "import json\n",
    "import mlflow.store.entities as entities\n",
    "model_version_infos\n",
    "\n",
    "for model in model_version_infos:\n",
    "    print(model.to_json())\n",
    "\n",
    "\n",
    "# with open(\"model_version_infos.json\", \"w\") as outfile:\n",
    "#     outfile.write(json_string)"
   ]
  },
  {
   "cell_type": "code",
   "execution_count": 37,
   "metadata": {},
   "outputs": [
    {
     "name": "stdout",
     "output_type": "stream",
     "text": [
      "name=California Housing;\n",
      "name=Diabetes;\n",
      "name=Iris;\n",
      "name=rf_cal_housing;\n"
     ]
    }
   ],
   "source": [
    "mlflow_models: List[MLflow_RegisteredModel] = list()\n",
    "\n",
    "result: PagedList = mlflow_client.search_registered_models()\n",
    "mlflow_models += result.to_list()\n",
    "while result.token:  # handle paginated results\n",
    "    result: PagedList = mlflow_client.search_registered_models(page_token=result.token)\n",
    "    mlflow_models += result.to_list()\n",
    "\n",
    "mlflow_models.sort(key=lambda x: x.name)\n",
    "for mv in mlflow_models:\n",
    "    print(f\"name={mv.name};\")"
   ]
  },
  {
   "cell_type": "code",
   "execution_count": 40,
   "metadata": {},
   "outputs": [],
   "source": [
    "models_for_import = [model for model in mlflow_models if \"test\" not in model.name]\n"
   ]
  },
  {
   "cell_type": "code",
   "execution_count": 42,
   "metadata": {},
   "outputs": [
    {
     "data": {
      "text/plain": [
       "[<RegisteredModel: aliases={}, creation_timestamp=1691087947650, description='', last_updated_timestamp=1691092205650, latest_versions=[<ModelVersion: aliases=[], creation_timestamp=1691092205650, current_stage='None', description='', last_updated_timestamp=1691092209967, name='California Housing', run_id='342b95cae90a4e6a8f6173ebde8489a5', run_link='', source='dbfs:/databricks/mlflow-tracking/1757007025729527/342b95cae90a4e6a8f6173ebde8489a5/artifacts/model', status='READY', status_message='', tags={}, user_id='gteicom@hotmail.com', version='29'>], name='California Housing', tags={}>,\n",
       " <RegisteredModel: aliases={}, creation_timestamp=1691084464692, description='', last_updated_timestamp=1691084574336, latest_versions=[<ModelVersion: aliases=[], creation_timestamp=1691084574336, current_stage='None', description='', last_updated_timestamp=1691084576805, name='Diabetes', run_id='8f42eae83d0047d4bb3276de0339c0ae', run_link='', source='dbfs:/databricks/mlflow/tmp-external-source/8f42eae83d0047d4bb3276de0339c0ae/model', status='READY', status_message='', tags={}, user_id='gteicom@hotmail.com', version='2'>], name='Diabetes', tags={}>,\n",
       " <RegisteredModel: aliases={}, creation_timestamp=1691084627848, description='', last_updated_timestamp=1691084632984, latest_versions=[<ModelVersion: aliases=[], creation_timestamp=1691084632984, current_stage='None', description='', last_updated_timestamp=1691084635480, name='Iris', run_id='7cb8778bef174dc0b915b12e70be8485', run_link='', source='dbfs:/databricks/mlflow/tmp-external-source/7cb8778bef174dc0b915b12e70be8485/model', status='READY', status_message='', tags={}, user_id='gteicom@hotmail.com', version='1'>], name='Iris', tags={}>,\n",
       " <RegisteredModel: aliases={}, creation_timestamp=1691092218158, description='', last_updated_timestamp=1691092218558, latest_versions=[<ModelVersion: aliases=[], creation_timestamp=1691092218558, current_stage='None', description='', last_updated_timestamp=1691092222536, name='rf_cal_housing', run_id='', run_link='', source='dbfs:/databricks/mlflow-tracking/1757007025729527/342b95cae90a4e6a8f6173ebde8489a5/artifacts/model', status='READY', status_message='', tags={}, user_id='gteicom@hotmail.com', version='1'>], name='rf_cal_housing', tags={}>]"
      ]
     },
     "execution_count": 42,
     "metadata": {},
     "output_type": "execute_result"
    }
   ],
   "source": [
    "models_for_import"
   ]
  },
  {
   "cell_type": "code",
   "execution_count": 46,
   "metadata": {},
   "outputs": [
    {
     "name": "stdout",
     "output_type": "stream",
     "text": [
      "created new RegisteredModel: California Housing in workspace: Default\n",
      "created new ModelVersion: 29\n",
      "created new ModelVersion: 28\n",
      "created new ModelVersion: 27\n",
      "created new ModelVersion: 26\n",
      "created new ModelVersion: 25\n",
      "created new ModelVersion: 24\n",
      "created new ModelVersion: 23\n",
      "created new ModelVersion: 22\n",
      "created new ModelVersion: 21\n",
      "created new ModelVersion: 20\n",
      "created new ModelVersion: 19\n",
      "created new ModelVersion: 18\n",
      "created new ModelVersion: 17\n",
      "created new ModelVersion: 16\n",
      "created new ModelVersion: 15\n",
      "created new ModelVersion: 14\n",
      "created new ModelVersion: 13\n",
      "created new ModelVersion: 12\n",
      "created new ModelVersion: 11\n",
      "created new ModelVersion: 10\n",
      "created new ModelVersion: 9\n",
      "created new ModelVersion: 8\n",
      "created new ModelVersion: 7\n",
      "created new ModelVersion: 6\n",
      "created new ModelVersion: 5\n",
      "created new ModelVersion: 4\n",
      "created new ModelVersion: 3\n",
      "created new ModelVersion: 2\n",
      "created new ModelVersion: 1\n",
      "created new RegisteredModel: Diabetes in workspace: Default\n",
      "created new ModelVersion: 2\n",
      "created new ModelVersion: 1\n",
      "created new RegisteredModel: Iris in workspace: Default\n",
      "created new ModelVersion: 1\n",
      "created new RegisteredModel: rf_cal_housing in workspace: Default\n",
      "created new ModelVersion: 1\n"
     ]
    }
   ],
   "source": [
    "failed_model_imports: List[MLflow_RegisteredModel] = list()\n",
    "successful_model_imports: List[MLflow_RegisteredModel] = list()\n",
    "model_messages: Dict[MLflow_RegisteredModel, List[str]] = dict()\n",
    "\n",
    "for rm in models_for_import:\n",
    "    model_messages[rm.name] = list()\n",
    "\n",
    "    try:\n",
    "        verta_rm = verta_client.create_registered_model(\n",
    "            name=rm.name,\n",
    "            desc=rm.description,\n",
    "            labels=[\n",
    "                \"mlflow_import\",\n",
    "                \"mlflow_creation_time:\" + str(rm.creation_timestamp),\n",
    "                \"mlflow_last_updated_time:\" + str(rm.last_updated_timestamp),\n",
    "                \"mlflow_tags:\" + \",\".join(rm.tags),\n",
    "            ],\n",
    "        )\n",
    "        model_messages[rm.name].append(\n",
    "            f\"created new registered model in Verta for {rm.name}\"\n",
    "        )\n",
    "    except ValueError:\n",
    "        model_messages[rm.name].append(\n",
    "            f'a registered model named \"{rm.name}\" already exists in Verta. Skipping import.'\n",
    "        )\n",
    "        failed_model_imports.append(rm)\n",
    "        continue\n",
    "\n",
    "    try:\n",
    "        rm_versions = mlflow_client.search_model_versions(f\"name='{rm.name}'\")\n",
    "        if not rm_versions:\n",
    "            failed_model_imports.append(rm)\n",
    "            model_messages[rm.name].append(\n",
    "                f\"unable to find any model versions for {rm.name}.  Skipping import.\"\n",
    "            )\n",
    "            continue\n",
    "    except Exception as err:\n",
    "        model_messages[rm.name].append(\n",
    "            f'failed to fetch versions for registered model \"{rm.name}\". Skipping import. Error: {err}'\n",
    "        )\n",
    "        failed_model_imports.append(rm)\n",
    "        continue\n",
    "\n",
    "    successful_versions = list()\n",
    "    for version in rm_versions:\n",
    "        try:\n",
    "            verta_version = verta_rm.create_version(\n",
    "                name=str(version.version),\n",
    "                attrs={\n",
    "                    \"er_id\": version.run_id,\n",
    "                    \"mlflow_source\": version.source,\n",
    "                    \"mlflow_user_id\": version.user_id,\n",
    "                    \"mlflow_run_link\": version.run_link,\n",
    "                    \"mlflow_creation_time\": version.creation_timestamp,\n",
    "                    \"mlflow_last_updated_time\": version.last_updated_timestamp,\n",
    "                    \"mlflow_status\": version.status,\n",
    "                    \"mlflow_current_stage\": version.current_stage,\n",
    "                    \"mlflow_tags\": version.tags,\n",
    "                },\n",
    "                labels=[\"mlflow_import\"],\n",
    "            )\n",
    "            model_messages[rm.name].append(f\"successfully created version {version.version}\")\n",
    "        except Exception as err:\n",
    "            model_messages[rm.name].append(\n",
    "                f\"failed to create model version in Verta for {rm.name} - version: {version.version} due to {err}\"\n",
    "            )\n",
    "            continue\n",
    "\n",
    "        # Import artifacts for the model version\n",
    "        try:\n",
    "            outpath = mlflow.artifacts.download_artifacts(run_id=version.run_id)\n",
    "        except Exception as err:\n",
    "            model_messages[rm.name].append(\n",
    "                f\"unable to download artifacts from {rm.name} - version run id; {version.run_id} due to {err}\"\n",
    "            )\n",
    "        else:\n",
    "            for file_name in os.listdir(outpath):\n",
    "                try:\n",
    "                    verta_version.log_artifact(\n",
    "                        file_name, os.path.join(outpath, file_name)\n",
    "                    )\n",
    "                    model_messages[rm.name].append(f\"artifact logged in Verta: {file_name}\")\n",
    "                except ValueError as err:\n",
    "                    model_messages[rm.name].append(\n",
    "                        f\"cannot upload artifact {file_name} for {rm.name} due to {err}\"\n",
    "                    )\n",
    "\n",
    "        # Set model version's current stage\n",
    "        stage_error_message = f\"unable to set stage in Verta for {rm.name} - version: {version}, current_stage: {version.current_stage}\"\n",
    "        try:\n",
    "            if version.current_stage != \"None\":\n",
    "                if version.current_stage == \"Staging\":\n",
    "                    verta_version.change_stage(Staging())\n",
    "                if version.current_stage == \"Production\":\n",
    "                    verta_version.change_stage(Production())\n",
    "                if version.current_stage == \"Archived\":\n",
    "                    verta_version.change_stage(Archived())\n",
    "                else:\n",
    "                    model_messages[rm.name].append(stage_error_message)\n",
    "            else:\n",
    "                model_messages[rm.name].append(stage_error_message)\n",
    "        except Exception as err:\n",
    "            model_messages[rm.name].append(f\"{stage_error_message}, due to: {str(err)}\")\n",
    "\n",
    "        successful_model_imports.append(rm)\n"
   ]
  }
 ],
 "metadata": {
  "kernelspec": {
   "display_name": ".venv",
   "language": "python",
   "name": "python3"
  },
  "language_info": {
   "codemirror_mode": {
    "name": "ipython",
    "version": 3
   },
   "file_extension": ".py",
   "mimetype": "text/x-python",
   "name": "python",
   "nbconvert_exporter": "python",
   "pygments_lexer": "ipython3",
   "version": "3.11.3"
  },
  "orig_nbformat": 4
 },
 "nbformat": 4,
 "nbformat_minor": 2
}
